{
  "cells": [
    {
      "cell_type": "code",
      "execution_count": null,
      "metadata": {
        "id": "PWiyy-Dt1pVF"
      },
      "outputs": [],
      "source": [
        "pip install osmnx"
      ]
    },
    {
      "cell_type": "code",
      "execution_count": null,
      "metadata": {
        "id": "Pde3vVv62sZw"
      },
      "outputs": [],
      "source": [
        "pip install geopandas"
      ]
    },
    {
      "cell_type": "code",
      "execution_count": null,
      "metadata": {
        "id": "wgBw4CFo3M0x"
      },
      "outputs": [],
      "source": [
        "pip install ipyleaflet"
      ]
    },
    {
      "cell_type": "code",
      "execution_count": null,
      "metadata": {
        "id": "djAJCfYE2yN-"
      },
      "outputs": [],
      "source": [
        "import networkx as nx\n",
        "import osmnx as ox\n",
        "from shapely.geometry import LineString, mapping\n",
        "import geopandas as gpd\n",
        "from ipyleaflet import *"
      ]
    },
    {
      "cell_type": "code",
      "execution_count": null,
      "metadata": {
        "id": "XHC9fdNn3ptj"
      },
      "outputs": [],
      "source": [
        "place_name = 'Los Olivos, Lima, Peru'\n",
        "graph = ox.graph_from_place(place_name, network_type='drive')\n",
        "graph_edit=nx.DiGraph(graph)"
      ]
    },
    {
      "cell_type": "code",
      "execution_count": null,
      "metadata": {
        "id": "JfIuPpyF7H6d"
      },
      "outputs": [],
      "source": [
        "nodes, edges = ox.graph_to_gdfs(graph)\n",
        "edges"
      ]
    },
    {
      "cell_type": "code",
      "source": [
        "edges = edges[edges['name']!='Avenida Holanda']\n",
        "graph_edit=ox.graph_from_gdfs(nodes,edges)"
      ],
      "metadata": {
        "id": "6XASsV3G6umF"
      },
      "execution_count": null,
      "outputs": []
    },
    {
      "cell_type": "code",
      "execution_count": null,
      "metadata": {
        "id": "8LMVAf_iG1eG"
      },
      "outputs": [],
      "source": [
        "center = (-11.9548679, -77.0797236)\n",
        "m = Map(center=center, basemap=basemaps.OpenStreetMap.France, zoom=15)"
      ]
    },
    {
      "cell_type": "code",
      "execution_count": null,
      "metadata": {
        "id": "sn7JgmicHjrL"
      },
      "outputs": [],
      "source": [
        "to_marker= Icon(\n",
        "    icon_url='https://th.bing.com/th/id/R.fa74fd8669452ada18cfae1d2cdfe09e?rik=TrnRqmfWVA6PXg&pid=ImgRaw&r=0',\n",
        ")\n",
        "from_marker = Marker(location=center)\n",
        "to_marker = Marker(location=center, icon=to_marker)"
      ]
    },
    {
      "cell_type": "code",
      "execution_count": null,
      "metadata": {
        "id": "YJTQwLBEHl-S"
      },
      "outputs": [],
      "source": [
        "def set_nearest_node(marker):\n",
        " marker.nearest_node = ox.get_nearest_node(graph, marker.location)\n",
        " return"
      ]
    },
    {
      "cell_type": "code",
      "execution_count": null,
      "metadata": {
        "id": "d2a2u7ecHpEc"
      },
      "outputs": [],
      "source": [
        "path_layer_list = []\n",
        "def handle_change_location(event, marker):\n",
        "    event_owner = event['owner']\n",
        "    event_owner.nearest_node = ox.get_nearest_node(graph, event_owner.location)\n",
        "    marker.nearest_node = ox.get_nearest_node(graph, marker.location)\n",
        "    \n",
        "    shortest_path = nx.dijkstra_path(graph_edit, event_owner.nearest_node, marker.nearest_node, weight='length')                          \n",
        "    \n",
        "    if len(path_layer_list) == 1:\n",
        "        m.remove_layer(path_layer_list[0])\n",
        "        path_layer_list.pop()\n",
        "    \n",
        "    shortest_path_points = nodes.loc[shortest_path]\n",
        "    path = gpd.GeoDataFrame([LineString(shortest_path_points.geometry.values)], columns=['geometry'])\n",
        "    path_layer = GeoData(geo_dataframe=path, style={'color':'green', 'weight':4})\n",
        "    m.add_layer(path_layer)\n",
        "    path_layer_list.append(path_layer)"
      ]
    },
    {
      "cell_type": "code",
      "execution_count": null,
      "metadata": {
        "id": "nYVI-GNGHrDS"
      },
      "outputs": [],
      "source": [
        "from_marker.observe(lambda event: handle_change_location(event, to_marker), 'location')\n",
        "to_marker.observe(lambda event: handle_change_location(event, from_marker), 'location')"
      ]
    },
    {
      "cell_type": "code",
      "execution_count": null,
      "metadata": {
        "colab": {
          "base_uri": "https://localhost:8080/",
          "height": 788,
          "referenced_widgets": [
            "31a09e8f83134c80aa33cc4d44905dd5",
            "27de6b2f33e94d678ac7f57ef4bb2f9d",
            "daa54eb1ecce41359fc66b16a47c2692",
            "d1ce3eb35ac74916a6e46342c26a0f79",
            "282334af8338434992ed1f8f7b857a1a",
            "adb934907a494f82b3617fb9fee803e2",
            "ee92cb3043404e759cf3f1497959e2b4",
            "d03966493a0c421a804ec542c9dad792",
            "c772b77026de4bd2be6259d07c809c9f",
            "90f670b2add946a9b8d0a94a8f185d88",
            "243aa705604a4cd396d726c2342f6be7",
            "1e12b6394c1f4d1784da144b502435b8",
            "1bd574fdb9294098aa48ca2ead4f1f47",
            "c3cbc40210bb43f389c763e21de358ca",
            "bd3028adffae47dfb91ea820f63397a6"
          ]
        },
        "id": "M_zAZW95H-Tr",
        "outputId": "7885f027-0b41-40f5-ea33-c38f0f55ff5f"
      },
      "outputs": [
        {
          "output_type": "stream",
          "name": "stderr",
          "text": [
            "/usr/local/lib/python3.7/dist-packages/osmnx/distance.py:356: UserWarning: The `get_nearest_node` function has been deprecated and will be removed in a future release. Use the more efficient `distance.nearest_nodes` instead.\n",
            "  warnings.warn(msg)\n",
            "/usr/local/lib/python3.7/dist-packages/osmnx/distance.py:356: UserWarning: The `get_nearest_node` function has been deprecated and will be removed in a future release. Use the more efficient `distance.nearest_nodes` instead.\n",
            "  warnings.warn(msg)\n"
          ]
        },
        {
          "output_type": "display_data",
          "data": {
            "text/plain": [
              "Map(center=[-11.9548679, -77.0797236], controls=(ZoomControl(options=['position', 'zoom_in_text', 'zoom_in_tit…"
            ],
            "application/vnd.jupyter.widget-view+json": {
              "version_major": 2,
              "version_minor": 0,
              "model_id": "31a09e8f83134c80aa33cc4d44905dd5"
            }
          },
          "metadata": {
            "application/vnd.jupyter.widget-view+json": {
              "colab": {
                "custom_widget_manager": {
                  "url": "https://ssl.gstatic.com/colaboratory-static/widgets/colab-cdn-widget-manager/d2e234f7cc04bf79/manager.min.js"
                }
              }
            }
          }
        },
        {
          "output_type": "stream",
          "name": "stderr",
          "text": [
            "/usr/local/lib/python3.7/dist-packages/osmnx/distance.py:356: UserWarning: The `get_nearest_node` function has been deprecated and will be removed in a future release. Use the more efficient `distance.nearest_nodes` instead.\n",
            "  warnings.warn(msg)\n",
            "/usr/local/lib/python3.7/dist-packages/osmnx/distance.py:356: UserWarning: The `get_nearest_node` function has been deprecated and will be removed in a future release. Use the more efficient `distance.nearest_nodes` instead.\n",
            "  warnings.warn(msg)\n",
            "/usr/local/lib/python3.7/dist-packages/osmnx/distance.py:356: UserWarning: The `get_nearest_node` function has been deprecated and will be removed in a future release. Use the more efficient `distance.nearest_nodes` instead.\n",
            "  warnings.warn(msg)\n",
            "/usr/local/lib/python3.7/dist-packages/osmnx/distance.py:356: UserWarning: The `get_nearest_node` function has been deprecated and will be removed in a future release. Use the more efficient `distance.nearest_nodes` instead.\n",
            "  warnings.warn(msg)\n",
            "/usr/local/lib/python3.7/dist-packages/osmnx/distance.py:356: UserWarning: The `get_nearest_node` function has been deprecated and will be removed in a future release. Use the more efficient `distance.nearest_nodes` instead.\n",
            "  warnings.warn(msg)\n",
            "/usr/local/lib/python3.7/dist-packages/osmnx/distance.py:356: UserWarning: The `get_nearest_node` function has been deprecated and will be removed in a future release. Use the more efficient `distance.nearest_nodes` instead.\n",
            "  warnings.warn(msg)\n",
            "/usr/local/lib/python3.7/dist-packages/osmnx/distance.py:356: UserWarning: The `get_nearest_node` function has been deprecated and will be removed in a future release. Use the more efficient `distance.nearest_nodes` instead.\n",
            "  warnings.warn(msg)\n",
            "/usr/local/lib/python3.7/dist-packages/osmnx/distance.py:356: UserWarning: The `get_nearest_node` function has been deprecated and will be removed in a future release. Use the more efficient `distance.nearest_nodes` instead.\n",
            "  warnings.warn(msg)\n"
          ]
        }
      ],
      "source": [
        "m.add_layer(from_marker)\n",
        "m.add_layer(to_marker)\n",
        "set_nearest_node(from_marker)\n",
        "set_nearest_node(to_marker)\n",
        "m"
      ]
    }
  ],
  "metadata": {
    "colab": {
      "collapsed_sections": [],
      "provenance": [],
      "toc_visible": true
    },
    "kernelspec": {
      "display_name": "Python 3",
      "name": "python3"
    },
    "language_info": {
      "name": "python"
    },
    "widgets": {
      "application/vnd.jupyter.widget-state+json": {
        "31a09e8f83134c80aa33cc4d44905dd5": {
          "model_module": "jupyter-leaflet",
          "model_name": "LeafletMapModel",
          "model_module_version": "^0.17",
          "state": {
            "_dom_classes": [],
            "_model_module": "jupyter-leaflet",
            "_model_module_version": "^0.17",
            "_model_name": "LeafletMapModel",
            "_view_count": null,
            "_view_module": "jupyter-leaflet",
            "_view_module_version": "^0.17",
            "_view_name": "LeafletMapView",
            "bottom": 8949943.200080872,
            "bounce_at_zoom_limits": true,
            "box_zoom": true,
            "center": [
              -11.952996722859124,
              -77.07685303877953
            ],
            "close_popup_on_click": true,
            "controls": [
              "IPY_MODEL_27de6b2f33e94d678ac7f57ef4bb2f9d",
              "IPY_MODEL_daa54eb1ecce41359fc66b16a47c2692"
            ],
            "crs": {
              "name": "EPSG3857",
              "custom": false
            },
            "default_style": "IPY_MODEL_d1ce3eb35ac74916a6e46342c26a0f79",
            "double_click_zoom": true,
            "dragging": true,
            "dragging_style": "IPY_MODEL_282334af8338434992ed1f8f7b857a1a",
            "east": -77.06544828604822,
            "fullscreen": false,
            "inertia": true,
            "inertia_deceleration": 3000,
            "inertia_max_speed": 1500,
            "interpolation": "bilinear",
            "keyboard": true,
            "keyboard_pan_offset": 80,
            "keyboard_zoom_offset": 1,
            "layers": [
              "IPY_MODEL_adb934907a494f82b3617fb9fee803e2",
              "IPY_MODEL_ee92cb3043404e759cf3f1497959e2b4",
              "IPY_MODEL_d03966493a0c421a804ec542c9dad792",
              "IPY_MODEL_bd3028adffae47dfb91ea820f63397a6"
            ],
            "layout": "IPY_MODEL_c772b77026de4bd2be6259d07c809c9f",
            "left": 4796034.799911499,
            "max_zoom": null,
            "min_zoom": null,
            "modisdate": "2022-11-08",
            "north": -11.948798205633839,
            "options": [
              "bounce_at_zoom_limits",
              "box_zoom",
              "center",
              "close_popup_on_click",
              "double_click_zoom",
              "dragging",
              "fullscreen",
              "inertia",
              "inertia_deceleration",
              "inertia_max_speed",
              "interpolation",
              "keyboard",
              "keyboard_pan_offset",
              "keyboard_zoom_offset",
              "max_zoom",
              "min_zoom",
              "prefer_canvas",
              "scroll_wheel_zoom",
              "tap",
              "tap_tolerance",
              "touch_zoom",
              "world_copy_jump",
              "zoom",
              "zoom_animation_threshold",
              "zoom_delta",
              "zoom_snap"
            ],
            "panes": {},
            "prefer_canvas": false,
            "right": 4797097.799911499,
            "scroll_wheel_zoom": false,
            "south": -11.957195174954295,
            "style": "IPY_MODEL_d1ce3eb35ac74916a6e46342c26a0f79",
            "tap": true,
            "tap_tolerance": 15,
            "top": 8949543.200080872,
            "touch_zoom": true,
            "west": -77.08825779151084,
            "window_url": "https://uokyfkpo7kk-496ff2e9c6d22116-0-colab.googleusercontent.com/outputframe.html?vrz=colab-20221107-060047-RC00_486630149",
            "world_copy_jump": false,
            "zoom": 16,
            "zoom_animation_threshold": 4,
            "zoom_delta": 1,
            "zoom_snap": 1
          }
        },
        "27de6b2f33e94d678ac7f57ef4bb2f9d": {
          "model_module": "jupyter-leaflet",
          "model_name": "LeafletZoomControlModel",
          "model_module_version": "^0.17",
          "state": {
            "_model_module": "jupyter-leaflet",
            "_model_module_version": "^0.17",
            "_model_name": "LeafletZoomControlModel",
            "_view_count": null,
            "_view_module": "jupyter-leaflet",
            "_view_module_version": "^0.17",
            "_view_name": "LeafletZoomControlView",
            "options": [
              "position",
              "zoom_in_text",
              "zoom_in_title",
              "zoom_out_text",
              "zoom_out_title"
            ],
            "position": "topleft",
            "zoom_in_text": "+",
            "zoom_in_title": "Zoom in",
            "zoom_out_text": "-",
            "zoom_out_title": "Zoom out"
          }
        },
        "daa54eb1ecce41359fc66b16a47c2692": {
          "model_module": "jupyter-leaflet",
          "model_name": "LeafletAttributionControlModel",
          "model_module_version": "^0.17",
          "state": {
            "_model_module": "jupyter-leaflet",
            "_model_module_version": "^0.17",
            "_model_name": "LeafletAttributionControlModel",
            "_view_count": null,
            "_view_module": "jupyter-leaflet",
            "_view_module_version": "^0.17",
            "_view_name": "LeafletAttributionControlView",
            "options": [
              "position",
              "prefix"
            ],
            "position": "bottomright",
            "prefix": "ipyleaflet"
          }
        },
        "d1ce3eb35ac74916a6e46342c26a0f79": {
          "model_module": "jupyter-leaflet",
          "model_name": "LeafletMapStyleModel",
          "model_module_version": "^0.17",
          "state": {
            "_model_module": "jupyter-leaflet",
            "_model_module_version": "^0.17",
            "_model_name": "LeafletMapStyleModel",
            "_view_count": null,
            "_view_module": "@jupyter-widgets/base",
            "_view_module_version": "1.2.0",
            "_view_name": "StyleView",
            "cursor": "grab"
          }
        },
        "282334af8338434992ed1f8f7b857a1a": {
          "model_module": "jupyter-leaflet",
          "model_name": "LeafletMapStyleModel",
          "model_module_version": "^0.17",
          "state": {
            "_model_module": "jupyter-leaflet",
            "_model_module_version": "^0.17",
            "_model_name": "LeafletMapStyleModel",
            "_view_count": null,
            "_view_module": "@jupyter-widgets/base",
            "_view_module_version": "1.2.0",
            "_view_name": "StyleView",
            "cursor": "move"
          }
        },
        "adb934907a494f82b3617fb9fee803e2": {
          "model_module": "jupyter-leaflet",
          "model_name": "LeafletTileLayerModel",
          "model_module_version": "^0.17",
          "state": {
            "_model_module": "jupyter-leaflet",
            "_model_module_version": "^0.17",
            "_model_name": "LeafletTileLayerModel",
            "_view_count": null,
            "_view_module": "jupyter-leaflet",
            "_view_module_version": "^0.17",
            "_view_name": "LeafletTileLayerView",
            "attribution": "&copy; OpenStreetMap France | &copy; <a href=\"https://www.openstreetmap.org/copyright\">OpenStreetMap</a> contributors",
            "base": true,
            "bottom": true,
            "bounds": null,
            "detect_retina": false,
            "loading": false,
            "max_native_zoom": null,
            "max_zoom": 20,
            "min_native_zoom": null,
            "min_zoom": 1,
            "name": "OpenStreetMap.France",
            "no_wrap": false,
            "opacity": 1,
            "options": [
              "attribution",
              "bounds",
              "detect_retina",
              "max_native_zoom",
              "max_zoom",
              "min_native_zoom",
              "min_zoom",
              "no_wrap",
              "tile_size",
              "tms",
              "zoom_offset"
            ],
            "pane": "",
            "popup": null,
            "popup_max_height": null,
            "popup_max_width": 300,
            "popup_min_width": 50,
            "show_loading": false,
            "subitems": [],
            "tile_size": 256,
            "tms": false,
            "url": "https://a.tile.openstreetmap.fr/osmfr/{z}/{x}/{y}.png",
            "visible": true,
            "zoom_offset": 0
          }
        },
        "ee92cb3043404e759cf3f1497959e2b4": {
          "model_module": "jupyter-leaflet",
          "model_name": "LeafletMarkerModel",
          "model_module_version": "^0.17",
          "state": {
            "_model_module": "jupyter-leaflet",
            "_model_module_version": "^0.17",
            "_model_name": "LeafletMarkerModel",
            "_view_count": null,
            "_view_module": "jupyter-leaflet",
            "_view_module_version": "^0.17",
            "_view_name": "LeafletMarkerView",
            "alt": "",
            "base": false,
            "bottom": false,
            "draggable": true,
            "icon": null,
            "keyboard": true,
            "location": [
              -11.950124942288625,
              -77.08440828329914
            ],
            "name": "",
            "opacity": 1,
            "options": [
              "alt",
              "draggable",
              "keyboard",
              "rise_offset",
              "rise_on_hover",
              "rotation_angle",
              "rotation_origin",
              "title",
              "z_index_offset"
            ],
            "pane": "",
            "popup": null,
            "popup_max_height": null,
            "popup_max_width": 300,
            "popup_min_width": 50,
            "rise_offset": 250,
            "rise_on_hover": false,
            "rotation_angle": 0,
            "rotation_origin": "",
            "subitems": [],
            "title": "",
            "visible": true,
            "z_index_offset": 0
          }
        },
        "d03966493a0c421a804ec542c9dad792": {
          "model_module": "jupyter-leaflet",
          "model_name": "LeafletMarkerModel",
          "model_module_version": "^0.17",
          "state": {
            "_model_module": "jupyter-leaflet",
            "_model_module_version": "^0.17",
            "_model_name": "LeafletMarkerModel",
            "_view_count": null,
            "_view_module": "jupyter-leaflet",
            "_view_module_version": "^0.17",
            "_view_name": "LeafletMarkerView",
            "alt": "",
            "base": false,
            "bottom": false,
            "draggable": true,
            "icon": "IPY_MODEL_243aa705604a4cd396d726c2342f6be7",
            "keyboard": true,
            "location": [
              -11.955112749479815,
              -77.07076978709667
            ],
            "name": "",
            "opacity": 1,
            "options": [
              "alt",
              "draggable",
              "keyboard",
              "rise_offset",
              "rise_on_hover",
              "rotation_angle",
              "rotation_origin",
              "title",
              "z_index_offset"
            ],
            "pane": "",
            "popup": null,
            "popup_max_height": null,
            "popup_max_width": 300,
            "popup_min_width": 50,
            "rise_offset": 250,
            "rise_on_hover": false,
            "rotation_angle": 0,
            "rotation_origin": "",
            "subitems": [],
            "title": "",
            "visible": true,
            "z_index_offset": 0
          }
        },
        "c772b77026de4bd2be6259d07c809c9f": {
          "model_module": "@jupyter-widgets/base",
          "model_name": "LayoutModel",
          "model_module_version": "1.2.0",
          "state": {
            "_model_module": "@jupyter-widgets/base",
            "_model_module_version": "1.2.0",
            "_model_name": "LayoutModel",
            "_view_count": null,
            "_view_module": "@jupyter-widgets/base",
            "_view_module_version": "1.2.0",
            "_view_name": "LayoutView",
            "align_content": null,
            "align_items": null,
            "align_self": null,
            "border": null,
            "bottom": null,
            "display": null,
            "flex": null,
            "flex_flow": null,
            "grid_area": null,
            "grid_auto_columns": null,
            "grid_auto_flow": null,
            "grid_auto_rows": null,
            "grid_column": null,
            "grid_gap": null,
            "grid_row": null,
            "grid_template_areas": null,
            "grid_template_columns": null,
            "grid_template_rows": null,
            "height": null,
            "justify_content": null,
            "justify_items": null,
            "left": null,
            "margin": null,
            "max_height": null,
            "max_width": null,
            "min_height": null,
            "min_width": null,
            "object_fit": null,
            "object_position": null,
            "order": null,
            "overflow": null,
            "overflow_x": null,
            "overflow_y": null,
            "padding": null,
            "right": null,
            "top": null,
            "visibility": null,
            "width": null
          }
        },
        "90f670b2add946a9b8d0a94a8f185d88": {
          "model_module": "jupyter-leaflet",
          "model_name": "LeafletMapStyleModel",
          "model_module_version": "^0.17",
          "state": {
            "_model_module": "jupyter-leaflet",
            "_model_module_version": "^0.17",
            "_model_name": "LeafletMapStyleModel",
            "_view_count": null,
            "_view_module": "@jupyter-widgets/base",
            "_view_module_version": "1.2.0",
            "_view_name": "StyleView",
            "cursor": "grab"
          }
        },
        "243aa705604a4cd396d726c2342f6be7": {
          "model_module": "jupyter-leaflet",
          "model_name": "LeafletIconModel",
          "model_module_version": "^0.17",
          "state": {
            "_model_module": "jupyter-leaflet",
            "_model_module_version": "^0.17",
            "_model_name": "LeafletIconModel",
            "_view_count": null,
            "_view_module": "jupyter-leaflet",
            "_view_module_version": "^0.17",
            "_view_name": "LeafletIconView",
            "base": false,
            "bottom": false,
            "icon_anchor": null,
            "icon_size": null,
            "icon_url": "https://th.bing.com/th/id/R.fa74fd8669452ada18cfae1d2cdfe09e?rik=TrnRqmfWVA6PXg&pid=ImgRaw&r=0",
            "name": "",
            "options": [
              "icon_anchor",
              "icon_size",
              "icon_url",
              "popup_anchor",
              "shadow_anchor",
              "shadow_size",
              "shadow_url"
            ],
            "pane": "",
            "popup": null,
            "popup_anchor": [
              0,
              0
            ],
            "popup_max_height": null,
            "popup_max_width": 300,
            "popup_min_width": 50,
            "shadow_anchor": null,
            "shadow_size": null,
            "shadow_url": null,
            "subitems": []
          }
        },
        "1e12b6394c1f4d1784da144b502435b8": {
          "model_module": "jupyter-leaflet",
          "model_name": "LeafletGeoJSONModel",
          "model_module_version": "^0.17",
          "state": {
            "_model_module": "jupyter-leaflet",
            "_model_module_version": "^0.17",
            "_model_name": "LeafletGeoJSONModel",
            "_view_count": null,
            "_view_module": "jupyter-leaflet",
            "_view_module_version": "^0.17",
            "_view_name": "LeafletGeoJSONView",
            "base": false,
            "bottom": false,
            "data": {
              "type": "FeatureCollection",
              "features": [
                {
                  "id": "0",
                  "type": "Feature",
                  "properties": {},
                  "geometry": {
                    "type": "LineString",
                    "coordinates": [
                      [
                        -77.0707471,
                        -11.9550677
                      ],
                      [
                        -77.07092,
                        -11.9540585
                      ],
                      [
                        -77.071933,
                        -11.954209
                      ],
                      [
                        -77.0724025,
                        -11.9529926
                      ],
                      [
                        -77.0729496,
                        -11.9526656
                      ],
                      [
                        -77.0732086,
                        -11.9526543
                      ],
                      [
                        -77.0739599,
                        -11.9527766
                      ],
                      [
                        -77.0740721,
                        -11.9527959
                      ],
                      [
                        -77.0745273,
                        -11.9528623
                      ],
                      [
                        -77.0748858,
                        -11.9529148
                      ],
                      [
                        -77.0756198,
                        -11.9530222
                      ],
                      [
                        -77.0760806,
                        -11.9530954
                      ],
                      [
                        -77.0763577,
                        -11.9512819
                      ],
                      [
                        -77.0765264,
                        -11.9513052
                      ],
                      [
                        -77.0764525,
                        -11.9517743
                      ],
                      [
                        -77.0769665,
                        -11.951852
                      ],
                      [
                        -77.0769042,
                        -11.9523115
                      ],
                      [
                        -77.0773703,
                        -11.9523857
                      ],
                      [
                        -77.0778336,
                        -11.9524575
                      ],
                      [
                        -77.0782498,
                        -11.9525245
                      ],
                      [
                        -77.0789893,
                        -11.9526422
                      ],
                      [
                        -77.0794483,
                        -11.9527166
                      ],
                      [
                        -77.0793592,
                        -11.9532697
                      ],
                      [
                        -77.079845,
                        -11.9533408
                      ],
                      [
                        -77.0799004,
                        -11.9530048
                      ],
                      [
                        -77.0800002,
                        -11.9530223
                      ],
                      [
                        -77.0799691,
                        -11.953228
                      ],
                      [
                        -77.0797236,
                        -11.9548679
                      ]
                    ]
                  }
                }
              ]
            },
            "hover_style": {},
            "layers": [],
            "name": "",
            "options": [],
            "pane": "",
            "point_style": {},
            "popup": null,
            "popup_max_height": null,
            "popup_max_width": 300,
            "popup_min_width": 50,
            "style": {
              "color": "green",
              "weight": 4
            },
            "subitems": [],
            "visible": true
          }
        },
        "1bd574fdb9294098aa48ca2ead4f1f47": {
          "model_module": "jupyter-leaflet",
          "model_name": "LeafletGeoJSONModel",
          "model_module_version": "^0.17",
          "state": {
            "_model_module": "jupyter-leaflet",
            "_model_module_version": "^0.17",
            "_model_name": "LeafletGeoJSONModel",
            "_view_count": null,
            "_view_module": "jupyter-leaflet",
            "_view_module_version": "^0.17",
            "_view_name": "LeafletGeoJSONView",
            "base": false,
            "bottom": false,
            "data": {
              "type": "FeatureCollection",
              "features": [
                {
                  "id": "0",
                  "type": "Feature",
                  "properties": {},
                  "geometry": {
                    "type": "LineString",
                    "coordinates": [
                      [
                        -77.0831098,
                        -11.9543769
                      ],
                      [
                        -77.0823332,
                        -11.9536304
                      ],
                      [
                        -77.0820611,
                        -11.953935
                      ],
                      [
                        -77.0809488,
                        -11.9531674
                      ],
                      [
                        -77.080498,
                        -11.9530985
                      ],
                      [
                        -77.0800002,
                        -11.9530223
                      ],
                      [
                        -77.0799004,
                        -11.9530048
                      ],
                      [
                        -77.0800008,
                        -11.9523106
                      ],
                      [
                        -77.0800696,
                        -11.9518495
                      ],
                      [
                        -77.0795971,
                        -11.9517769
                      ],
                      [
                        -77.0791111,
                        -11.9517022
                      ],
                      [
                        -77.078397,
                        -11.9515925
                      ],
                      [
                        -77.0775047,
                        -11.9514555
                      ],
                      [
                        -77.0770326,
                        -11.951383
                      ],
                      [
                        -77.0765264,
                        -11.9513052
                      ],
                      [
                        -77.0763577,
                        -11.9512819
                      ],
                      [
                        -77.0763616,
                        -11.9512565
                      ],
                      [
                        -77.0759064,
                        -11.9511854
                      ],
                      [
                        -77.075157,
                        -11.951058
                      ],
                      [
                        -77.0747878,
                        -11.9510109
                      ],
                      [
                        -77.0740688,
                        -11.9513509
                      ],
                      [
                        -77.0739787,
                        -11.9513927
                      ],
                      [
                        -77.0732086,
                        -11.9526543
                      ],
                      [
                        -77.0729496,
                        -11.9526656
                      ],
                      [
                        -77.0724025,
                        -11.9529926
                      ],
                      [
                        -77.071933,
                        -11.954209
                      ],
                      [
                        -77.07092,
                        -11.9540585
                      ],
                      [
                        -77.0707471,
                        -11.9550677
                      ]
                    ]
                  }
                }
              ]
            },
            "hover_style": {},
            "layers": [],
            "name": "",
            "options": [],
            "pane": "",
            "point_style": {},
            "popup": null,
            "popup_max_height": null,
            "popup_max_width": 300,
            "popup_min_width": 50,
            "style": {
              "color": "green",
              "weight": 4
            },
            "subitems": [],
            "visible": true
          }
        },
        "c3cbc40210bb43f389c763e21de358ca": {
          "model_module": "jupyter-leaflet",
          "model_name": "LeafletGeoJSONModel",
          "model_module_version": "^0.17",
          "state": {
            "_model_module": "jupyter-leaflet",
            "_model_module_version": "^0.17",
            "_model_name": "LeafletGeoJSONModel",
            "_view_count": null,
            "_view_module": "jupyter-leaflet",
            "_view_module_version": "^0.17",
            "_view_name": "LeafletGeoJSONView",
            "base": false,
            "bottom": false,
            "data": {
              "type": "FeatureCollection",
              "features": [
                {
                  "id": "0",
                  "type": "Feature",
                  "properties": {},
                  "geometry": {
                    "type": "LineString",
                    "coordinates": [
                      [
                        -77.083953,
                        -11.9524738
                      ],
                      [
                        -77.0835993,
                        -11.9521758
                      ],
                      [
                        -77.0835187,
                        -11.9522685
                      ],
                      [
                        -77.0832907,
                        -11.9525307
                      ],
                      [
                        -77.0832189,
                        -11.9526071
                      ],
                      [
                        -77.0829088,
                        -11.9529713
                      ],
                      [
                        -77.0826365,
                        -11.9532828
                      ],
                      [
                        -77.082375,
                        -11.9535824
                      ],
                      [
                        -77.0823332,
                        -11.9536304
                      ],
                      [
                        -77.0820611,
                        -11.953935
                      ],
                      [
                        -77.0809488,
                        -11.9531674
                      ],
                      [
                        -77.080498,
                        -11.9530985
                      ],
                      [
                        -77.0800002,
                        -11.9530223
                      ],
                      [
                        -77.0799004,
                        -11.9530048
                      ],
                      [
                        -77.0800008,
                        -11.9523106
                      ],
                      [
                        -77.0800696,
                        -11.9518495
                      ],
                      [
                        -77.0795971,
                        -11.9517769
                      ],
                      [
                        -77.0791111,
                        -11.9517022
                      ],
                      [
                        -77.078397,
                        -11.9515925
                      ],
                      [
                        -77.0775047,
                        -11.9514555
                      ],
                      [
                        -77.0770326,
                        -11.951383
                      ],
                      [
                        -77.0765264,
                        -11.9513052
                      ],
                      [
                        -77.0763577,
                        -11.9512819
                      ],
                      [
                        -77.0763616,
                        -11.9512565
                      ],
                      [
                        -77.0759064,
                        -11.9511854
                      ],
                      [
                        -77.075157,
                        -11.951058
                      ],
                      [
                        -77.0747878,
                        -11.9510109
                      ],
                      [
                        -77.0740688,
                        -11.9513509
                      ],
                      [
                        -77.0739787,
                        -11.9513927
                      ],
                      [
                        -77.0732086,
                        -11.9526543
                      ],
                      [
                        -77.0729496,
                        -11.9526656
                      ],
                      [
                        -77.0724025,
                        -11.9529926
                      ],
                      [
                        -77.071933,
                        -11.954209
                      ],
                      [
                        -77.07092,
                        -11.9540585
                      ],
                      [
                        -77.0707471,
                        -11.9550677
                      ]
                    ]
                  }
                }
              ]
            },
            "hover_style": {},
            "layers": [],
            "name": "",
            "options": [],
            "pane": "",
            "point_style": {},
            "popup": null,
            "popup_max_height": null,
            "popup_max_width": 300,
            "popup_min_width": 50,
            "style": {
              "color": "green",
              "weight": 4
            },
            "subitems": [],
            "visible": true
          }
        },
        "bd3028adffae47dfb91ea820f63397a6": {
          "model_module": "jupyter-leaflet",
          "model_name": "LeafletGeoJSONModel",
          "model_module_version": "^0.17",
          "state": {
            "_model_module": "jupyter-leaflet",
            "_model_module_version": "^0.17",
            "_model_name": "LeafletGeoJSONModel",
            "_view_count": null,
            "_view_module": "jupyter-leaflet",
            "_view_module_version": "^0.17",
            "_view_name": "LeafletGeoJSONView",
            "base": false,
            "bottom": false,
            "data": {
              "type": "FeatureCollection",
              "features": [
                {
                  "id": "0",
                  "type": "Feature",
                  "properties": {},
                  "geometry": {
                    "type": "LineString",
                    "coordinates": [
                      [
                        -77.0844108,
                        -11.9501656
                      ],
                      [
                        -77.0839598,
                        -11.950031
                      ],
                      [
                        -77.0834903,
                        -11.9498744
                      ],
                      [
                        -77.0820954,
                        -11.9494041
                      ],
                      [
                        -77.0806291,
                        -11.94893
                      ],
                      [
                        -77.0805472,
                        -11.948902
                      ],
                      [
                        -77.08008,
                        -11.9487531
                      ],
                      [
                        -77.0798516,
                        -11.9501783
                      ],
                      [
                        -77.0795971,
                        -11.9517769
                      ],
                      [
                        -77.0791111,
                        -11.9517022
                      ],
                      [
                        -77.078397,
                        -11.9515925
                      ],
                      [
                        -77.0775047,
                        -11.9514555
                      ],
                      [
                        -77.0770326,
                        -11.951383
                      ],
                      [
                        -77.0765264,
                        -11.9513052
                      ],
                      [
                        -77.0763577,
                        -11.9512819
                      ],
                      [
                        -77.0763616,
                        -11.9512565
                      ],
                      [
                        -77.0759064,
                        -11.9511854
                      ],
                      [
                        -77.075157,
                        -11.951058
                      ],
                      [
                        -77.0747878,
                        -11.9510109
                      ],
                      [
                        -77.0740688,
                        -11.9513509
                      ],
                      [
                        -77.0739787,
                        -11.9513927
                      ],
                      [
                        -77.0732086,
                        -11.9526543
                      ],
                      [
                        -77.0729496,
                        -11.9526656
                      ],
                      [
                        -77.0724025,
                        -11.9529926
                      ],
                      [
                        -77.071933,
                        -11.954209
                      ],
                      [
                        -77.07092,
                        -11.9540585
                      ],
                      [
                        -77.0707471,
                        -11.9550677
                      ]
                    ]
                  }
                }
              ]
            },
            "hover_style": {},
            "layers": [],
            "name": "",
            "options": [],
            "pane": "",
            "point_style": {},
            "popup": null,
            "popup_max_height": null,
            "popup_max_width": 300,
            "popup_min_width": 50,
            "style": {
              "color": "green",
              "weight": 4
            },
            "subitems": [],
            "visible": true
          }
        }
      }
    }
  },
  "nbformat": 4,
  "nbformat_minor": 0
}