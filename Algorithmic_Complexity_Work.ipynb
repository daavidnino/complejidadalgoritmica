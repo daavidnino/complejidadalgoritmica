{
  "cells": [
    {
      "cell_type": "code",
      "execution_count": null,
      "metadata": {
        "id": "PWiyy-Dt1pVF"
      },
      "outputs": [],
      "source": [
        "pip install osmnx"
      ]
    },
    {
      "cell_type": "code",
      "execution_count": null,
      "metadata": {
        "id": "Pde3vVv62sZw"
      },
      "outputs": [],
      "source": [
        "pip install geopandas"
      ]
    },
    {
      "cell_type": "code",
      "execution_count": null,
      "metadata": {
        "id": "wgBw4CFo3M0x"
      },
      "outputs": [],
      "source": [
        "pip install ipyleaflet"
      ]
    },
    {
      "cell_type": "code",
      "execution_count": null,
      "metadata": {
        "id": "djAJCfYE2yN-"
      },
      "outputs": [],
      "source": [
        "import networkx as nx\n",
        "import osmnx as ox\n",
        "from shapely.geometry import LineString, mapping\n",
        "import geopandas as gpd\n",
        "from ipyleaflet import *"
      ]
    },
    {
      "cell_type": "code",
      "execution_count": null,
      "metadata": {
        "id": "XHC9fdNn3ptj"
      },
      "outputs": [],
      "source": [
        "place_name = 'Los Olivos, Lima, Peru'\n",
        "graph = ox.graph_from_place(place_name, network_type='drive')\n",
        "graph_edit=nx.DiGraph(graph)"
      ]
    },
    {
      "cell_type": "code",
      "execution_count": null,
      "metadata": {
        "id": "JfIuPpyF7H6d"
      },
      "outputs": [],
      "source": [
        "nodes, edges = ox.graph_to_gdfs(graph)\n",
        "edges"
      ]
    },
    {
      "cell_type": "code",
      "source": [
        "edges = edges[edges['name']!='Avenida Holanda']\n",
        "graph_edit=ox.graph_from_gdfs(nodes,edges)"
      ],
      "metadata": {
        "id": "6XASsV3G6umF"
      },
      "execution_count": null,
      "outputs": []
    },
    {
      "cell_type": "code",
      "execution_count": null,
      "metadata": {
        "id": "8LMVAf_iG1eG"
      },
      "outputs": [],
      "source": [
        "center = (-11.9548679, -77.0797236)\n",
        "m = Map(center=center, basemap=basemaps.OpenStreetMap.France, zoom=15)"
      ]
    },
    {
      "cell_type": "code",
      "execution_count": null,
      "metadata": {
        "id": "sn7JgmicHjrL"
      },
      "outputs": [],
      "source": [
        "to_marker= Icon(\n",
        "    icon_url='https://th.bing.com/th/id/R.fa74fd8669452ada18cfae1d2cdfe09e?rik=TrnRqmfWVA6PXg&pid=ImgRaw&r=0',\n",
        ")\n",
        "from_marker = Marker(location=center)\n",
        "to_marker = Marker(location=center, icon=to_marker)"
      ]
    },
    {
      "cell_type": "code",
      "execution_count": null,
      "metadata": {
        "id": "YJTQwLBEHl-S"
      },
      "outputs": [],
      "source": [
        "def set_nearest_node(marker):\n",
        " marker.nearest_node = ox.get_nearest_node(graph, marker.location)\n",
        " return"
      ]
    },
    {
      "cell_type": "code",
      "execution_count": null,
      "metadata": {
        "id": "d2a2u7ecHpEc"
      },
      "outputs": [],
      "source": [
        "path_layer_list = []\n",
        "def handle_change_location(event, marker):\n",
        "    event_owner = event['owner']\n",
        "    event_owner.nearest_node = ox.get_nearest_node(graph, event_owner.location)\n",
        "    marker.nearest_node = ox.get_nearest_node(graph, marker.location)\n",
        "    \n",
        "    shortest_path = nx.dijkstra_path(graph_edit, event_owner.nearest_node, marker.nearest_node, weight='length')                          \n",
        "    \n",
        "    if len(path_layer_list) == 1:\n",
        "        m.remove_layer(path_layer_list[0])\n",
        "        path_layer_list.pop()\n",
        "    \n",
        "    shortest_path_points = nodes.loc[shortest_path]\n",
        "    path = gpd.GeoDataFrame([LineString(shortest_path_points.geometry.values)], columns=['geometry'])\n",
        "    path_layer = GeoData(geo_dataframe=path, style={'color':'green', 'weight':4})\n",
        "    m.add_layer(path_layer)\n",
        "    path_layer_list.append(path_layer)"
      ]
    },
    {
      "cell_type": "code",
      "execution_count": null,
      "metadata": {
        "id": "nYVI-GNGHrDS"
      },
      "outputs": [],
      "source": [
        "from_marker.observe(lambda event: handle_change_location(event, to_marker), 'location')\n",
        "to_marker.observe(lambda event: handle_change_location(event, from_marker), 'location')"
      ]
    },
    {
      "cell_type": "code",
      "execution_count": null,
      "metadata": {
        "id": "M_zAZW95H-Tr"
      },
      "outputs": [],
      "source": [
        "m.add_layer(from_marker)\n",
        "m.add_layer(to_marker)\n",
        "set_nearest_node(from_marker)\n",
        "set_nearest_node(to_marker)\n",
        "m"
      ]
    }
  ],
  "metadata": {
    "colab": {
      "collapsed_sections": [],
      "provenance": [],
      "toc_visible": true
    },
    "kernelspec": {
      "display_name": "Python 3",
      "name": "python3"
    },
    "language_info": {
      "name": "python"
    }
  },
  "nbformat": 4,
  "nbformat_minor": 0
}